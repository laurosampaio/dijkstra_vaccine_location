{
 "cells": [
  {
   "cell_type": "code",
   "execution_count": null,
   "metadata": {
    "id": "5Dfg5YsOoIfz"
   },
   "outputs": [
    {
     "name": "stdout",
     "output_type": "stream",
     "text": [
      "Shortest path from S to Goal: ['S', 'A', 'B', 'D', 'F', 'I', 'J', 'Goal']\n",
      "Total distance: 1083\n"
     ]
    }
   ],
   "source": [
    "import heapq\n",
    "\n",
    "def dijkstra(graph, start, end):\n",
    "    # Initialization\n",
    "    distances = {vertex: float('infinity') for vertex in graph}\n",
    "    distances[start] = 0\n",
    "    previous_vertices = {vertex: None for vertex in graph}  # To track the path\n",
    "    priority_queue = [(0, start)]  # (distance, vertex)\n",
    "\n",
    "    while priority_queue:\n",
    "        # Extract the vertex with the smallest distance\n",
    "        current_distance, current_vertex = heapq.heappop(priority_queue)\n",
    "\n",
    "        # If we reach the destination, stop the search\n",
    "        if current_vertex == end:\n",
    "            break\n",
    "\n",
    "        # If the current distance is already greater than the recorded one, skip it\n",
    "        if current_distance > distances[current_vertex]:\n",
    "            continue\n",
    "\n",
    "        # Check neighbors\n",
    "        for neighbor, weight in graph[current_vertex].items():\n",
    "            distance = current_distance + weight\n",
    "\n",
    "            # Update the shortest distance found for the neighbor\n",
    "            if distance < distances[neighbor]:\n",
    "                distances[neighbor] = distance\n",
    "                previous_vertices[neighbor] = current_vertex\n",
    "                heapq.heappush(priority_queue, (distance, neighbor))\n",
    "\n",
    "    # Reconstruct the shortest path\n",
    "    path = []\n",
    "    current = end\n",
    "    while current is not None:\n",
    "        path.insert(0, current)\n",
    "        current = previous_vertices[current]\n",
    "\n",
    "    return distances[end], path\n",
    "\n",
    "if __name__ == \"__main__\":\n",
    "    # Graph defined in the article based on the given vertices and edges\n",
    "    graph = {\n",
    "        'S': {'A': 150},\n",
    "        'A': {'B': 141, 'C': 202},\n",
    "        'B': {'D': 210},\n",
    "        'D': {'C': 174, 'F': 188},\n",
    "        'C': {'E': 131},\n",
    "        'E': {'G': 169},\n",
    "        'F': {'I': 19, 'E': 200},\n",
    "        'I': {'J': 258},\n",
    "        'G': {'H': 209},\n",
    "        'H': {'J': 274, 'I': 148},\n",
    "        'J': {'Goal': 117},\n",
    "        'Goal': {},\n",
    "    }\n",
    "\n",
    "    start_vertex = 'S'\n",
    "    end_vertex = 'Goal'\n",
    "\n",
    "    shortest_distance, shortest_path = dijkstra(graph, start_vertex, end_vertex)\n",
    "\n",
    "    # Display the shortest path and the distance\n",
    "    print(f\"Shortest path from {start_vertex} to {end_vertex}: {shortest_path}\")\n",
    "    print(f\"Total distance: {shortest_distance}\")\n",
    "\n"
   ]
  }
 ],
 "metadata": {
  "colab": {
   "authorship_tag": "ABX9TyPvVKSK9g0Y2zsrJG8FEFI+",
   "provenance": []
  },
  "kernelspec": {
   "display_name": "Python 3",
   "name": "python3"
  },
  "language_info": {
   "codemirror_mode": {
    "name": "ipython",
    "version": 3
   },
   "file_extension": ".py",
   "mimetype": "text/x-python",
   "name": "python",
   "nbconvert_exporter": "python",
   "pygments_lexer": "ipython3",
   "version": "3.12.7"
  }
 },
 "nbformat": 4,
 "nbformat_minor": 0
}
