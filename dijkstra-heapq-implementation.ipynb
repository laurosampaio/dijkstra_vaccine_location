{
 "cells": [
  {
   "cell_type": "markdown",
   "metadata": {
    "id": "Ep40GUZOI--D"
   },
   "source": [
    "# **Dijkstra's Implementation of Algorithm for COVID-19 Vaccine Location**\n"
   ]
  },
  {
   "cell_type": "code",
   "execution_count": 1,
   "metadata": {},
   "outputs": [
    {
     "name": "stdout",
     "output_type": "stream",
     "text": [
      "Shortest Path to Vaccine Location:\n",
      "S -> A -> B -> D -> F -> I -> J -> Goal\n",
      "Total Distance: 1083 meters\n"
     ]
    }
   ],
   "source": [
    "import math\n",
    "import heapq\n",
    "from typing import Dict, List, Tuple\n",
    "\n",
    "class Graph:\n",
    "    def __init__(self):\n",
    "        # Dictionary to store graph connections and distances\n",
    "        self.vertices = {}\n",
    "    \n",
    "    def add_edge(self, start: str, end: str, distance: float):\n",
    "        \"\"\"Add an edge between two vertices with a given distance\"\"\"\n",
    "        if start not in self.vertices:\n",
    "            self.vertices[start] = {}\n",
    "        if end not in self.vertices:\n",
    "            self.vertices[end] = {}\n",
    "        \n",
    "        # Add bidirectional connection\n",
    "        self.vertices[start][end] = distance\n",
    "        self.vertices[end][start] = distance\n",
    "    \n",
    "    def dijkstra(self, start: str, goal: str) -> Tuple[List[str], float]:\n",
    "        \"\"\"\n",
    "        Find the shortest path between start and goal vertices using Dijkstra's algorithm with heapq\n",
    "        \n",
    "        Returns a tuple of (path, total_distance)\n",
    "        \"\"\"\n",
    "        # Initialize distances and previous vertices\n",
    "        distances = {vertex: math.inf for vertex in self.vertices}\n",
    "        distances[start] = 0\n",
    "        previous_vertices = {vertex: None for vertex in self.vertices}\n",
    "        \n",
    "        # Priority queue to efficiently select minimum distance vertex\n",
    "        pq = [(0, start)]\n",
    "        \n",
    "        while pq:\n",
    "            # Get vertex with minimum distance\n",
    "            current_distance, current = heapq.heappop(pq)\n",
    "            \n",
    "            # Skip if we've found a better path already\n",
    "            if current_distance > distances[current]:\n",
    "                continue\n",
    "            \n",
    "            # If we've reached the goal, reconstruct and return the path\n",
    "            if current == goal:\n",
    "                path = []\n",
    "                while current is not None:\n",
    "                    path.insert(0, current)\n",
    "                    current = previous_vertices[current]\n",
    "                return path, distances[goal]\n",
    "            \n",
    "            # Check neighbors\n",
    "            for neighbor, edge_distance in self.vertices[current].items():\n",
    "                # Calculate potential new distance\n",
    "                potential_distance = distances[current] + edge_distance\n",
    "                \n",
    "                # Update if new path is shorter\n",
    "                if potential_distance < distances[neighbor]:\n",
    "                    distances[neighbor] = potential_distance\n",
    "                    previous_vertices[neighbor] = current\n",
    "                    heapq.heappush(pq, (potential_distance, neighbor))\n",
    "        \n",
    "        # If no path found\n",
    "        return [], math.inf\n",
    "\n",
    "def main():\n",
    "    # Create graph based on the paper's example\n",
    "    vaccine_graph = Graph()\n",
    "    \n",
    "    # Add edges with distances (in meters) from the paper's example\n",
    "    edges = [\n",
    "        ('S', 'A', 150),\n",
    "        ('A', 'B', 141),\n",
    "        ('A', 'C', 202),\n",
    "        ('B', 'D', 210),\n",
    "        ('D', 'C', 174),\n",
    "        ('C', 'E', 131),\n",
    "        ('D', 'F', 188),\n",
    "        ('E', 'G', 169),\n",
    "        ('F', 'I', 19),\n",
    "        ('I', 'J', 258),\n",
    "        ('G', 'H', 209),\n",
    "        ('H', 'J', 274),\n",
    "        ('J', 'Goal', 117)\n",
    "    ]\n",
    "    \n",
    "    for start, end, distance in edges:\n",
    "        vaccine_graph.add_edge(start, end, distance)\n",
    "    \n",
    "    # Find shortest path from start to goal\n",
    "    path, total_distance = vaccine_graph.dijkstra('S', 'Goal')\n",
    "    \n",
    "    print(\"Shortest Path to Vaccine Location:\")\n",
    "    print(\" -> \".join(path))\n",
    "    print(f\"Total Distance: {total_distance} meters\")\n",
    "\n",
    "if __name__ == \"__main__\":\n",
    "    main()\n"
   ]
  }
 ],
 "metadata": {
  "accelerator": "GPU",
  "colab": {
   "gpuType": "T4",
   "provenance": []
  },
  "kaggle": {
   "accelerator": "none",
   "dataSources": [
    {
     "datasetId": 611064,
     "sourceId": 1093705,
     "sourceType": "datasetVersion"
    }
   ],
   "dockerImageVersionId": 30698,
   "isGpuEnabled": false,
   "isInternetEnabled": false,
   "language": "python",
   "sourceType": "notebook"
  },
  "kernelspec": {
   "display_name": "Python 3",
   "name": "python3"
  },
  "language_info": {
   "codemirror_mode": {
    "name": "ipython",
    "version": 3
   },
   "file_extension": ".py",
   "mimetype": "text/x-python",
   "name": "python",
   "nbconvert_exporter": "python",
   "pygments_lexer": "ipython3",
   "version": "3.12.7"
  }
 },
 "nbformat": 4,
 "nbformat_minor": 0
}
